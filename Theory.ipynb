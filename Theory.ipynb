{
 "cells": [
  {
   "cell_type": "markdown",
   "id": "dc1bce13",
   "metadata": {},
   "source": [
    "# ЕМ-алгоритм для пропусков в данных."
   ]
  },
  {
   "cell_type": "markdown",
   "id": "6c804eb3",
   "metadata": {},
   "source": [
    "$$\n",
    "f_{1,2}(y_1,y_2;\\mu,\\Sigma)=\\prod_{i=1}^N f_1(y_{i1};\\mu_1,\\sigma_{11}) \\prod_{j=1}^R f_{2|1}(y_{j2}|y_{j1};\\mu,\\Sigma) \\\\\n",
    "f_1(y_{i1};\\mu_1,\\sigma_{11}) = \\frac{1}{\\sigma_{11}\\sqrt{2\\pi}} e^{-\\frac{(y_{i1}-\\mu_1)^2}{2\\sigma_{11}^2}} $$\n",
    "$ f_{2|1}(y_{j2}|y_{j1};\\mu,\\Sigma) $ - гауссовская плотность с параметрами $ \\mu_{2|1}=\\mu_2+\\frac{\\sigma_{22}}{\\sigma_{11}}\\rho (y_{j1}-\\mu_1);   \\; \\sigma_{2|1}=\\sigma_{22}\\sqrt{1-\\rho^2} $, где $\\rho$ - коэффициент корреляции\n",
    "$$\\sigma_{2|1} = \\sigma_{22} \\sqrt{1-\\rho^2} = \\sigma_{22} \\sqrt{1-(\\frac{\\sigma_{12}^2}{\\sigma_{11}\\sigma_{22}})^2}\n",
    "=  \\sqrt{\\sigma_{22}^2-\\sigma_{22}^2(\\frac{\\sigma_{12}^2}{\\sigma_{11}\\sigma_{22}})^2} = \\sqrt{\\sigma_{22}^2-(\\frac{\\sigma_{12}^2}{\\sigma_{11}})^2};  \\; \\sigma_{2|1}^2=\\sigma_{22}^2-\\frac{\\sigma_{12}^4}{\\sigma_{11}^2} \\\\\n",
    "f_{2|1}(y_{j2}|y_{j1};\\mu,\\Sigma) = \\frac{1}{\\sigma_{2|1}\\sqrt{2\\pi}} e^{-\\frac{(y_{j2}-\\mu_{2|1})^2}{2\\sigma_{2|1}^2}} $$"
   ]
  },
  {
   "cell_type": "markdown",
   "id": "e3b50263",
   "metadata": {},
   "source": [
    "$$\n",
    "f_{1,2}(y_1,y_2;\\mu,\\Sigma)=\\prod_{i=1}^N\\frac{1}{\\sigma_{11}\\sqrt{2\\pi}} e^{-\\frac{(y_{i1}-\\mu_1)^2}{2\\sigma_{11}^2}} \\prod_{j=1}^R \\frac{1}{\\sigma_{2|1}\\sqrt{2\\pi}} e^{-\\frac{(y_{i2}-\\mu_{2|1})^2}{2\\sigma_{2|1}^2}} \\\\\n",
    "l(\\mu, \\Sigma; y_1, y_2) = \\log f_{1,2} (y_1, y_2;\\mu, \\Sigma) = \\log \\prod_{i=1}^N\\frac{1}{\\sigma_{11}\\sqrt{2\\pi}} e^{-\\frac{(y_{i1}-\\mu_1)^2}{2\\sigma_{11}^2}} + \\log \\prod_{i=1}^R \\frac{1}{\\sigma_{2|1}\\sqrt{2\\pi}} e^{-\\frac{(y_{i2}-\\mu_{2|1})^2}{2\\sigma_{2|1}^2}} = \\\\\n",
    "= \\log \\prod_{i=1}^N\\frac{1}{\\sigma_{11}\\sqrt{2\\pi}} + \\log \\prod_{i=1}^N e^{-\\frac{(y_{i1}-\\mu_1)^2}{2\\sigma_{11}^2}} + \\log \\prod_{i=1}^R \\frac{1}{\\sigma_{2|1}\\sqrt{2\\pi}} + \\log \\prod_{i=1}^R e^{-\\frac{(y_{i2}-\\mu_{2|1})^2}{2\\sigma_{2|1}^2}} = \\\\\n",
    "= \\log \\prod_{i=1}^N\\frac{1}{\\sqrt{2\\pi}} + \\log \\prod_{i=1}^N\\frac{1}{\\sqrt{\\sigma_{11}^2}} + \\log \\prod_{i=1}^N e^{-\\frac{(y_{i1}-\\mu_1)^2}{2\\sigma_{11}^2}} + \\log \\prod_{i=1}^R \\frac{1}{\\sqrt{2\\pi}} + \\log \\prod_{i=1}^R \\frac{1}{\\sqrt{\\sigma_{2|1}^2}} + \\log \\prod_{i=1}^R e^{-\\frac{(y_{i2}-\\mu_{2|1})^2}{2\\sigma_{2|1}^2}} = \\\\\n",
    "= \\log \\prod_{i=1}^N\\frac{1}{\\sqrt{2\\pi}} + \\log \\prod_{i=1}^N (\\sigma_{11}^2)^{(-1/2)} + \\log \\prod_{i=1}^N e^{-\\frac{(y_{i1}-\\mu_1)^2}{2\\sigma_{11}^2}} + \\log \\prod_{i=1}^R \\frac{1}{\\sqrt{2\\pi}} + \\log \\prod_{i=1}^R (\\sigma_{2|1}^2)^{(-1/2)} + \\log \\prod_{i=1}^R e^{-\\frac{(y_{i2}-\\mu_{2|1})^2}{2\\sigma_{2|1}^2}} = \\\\\n",
    "= \\sum_{i=1}^N \\log \\frac{1}{\\sqrt{2\\pi}} + \\sum_{i=1}^N -\\frac{1}{2} \\log (\\sigma_{11}^2) + \\sum_{i=1}^N -\\frac{(y_{i1}-\\mu_1)^2}{2\\sigma_{11}^2} + \\sum_{i=1}^R \\log \\frac{1}{\\sqrt{2\\pi}} + \\sum_{i=1}^R -\\frac{1}{2} \\log  (\\sigma_{2|1}^2) + \\sum_{i=1}^R -\\frac{(y_{i2}-\\mu_{2|1})^2}{2\\sigma_{2|1}^2} = \\\\\n",
    "= \\sum_{i=1}^N \\log \\frac{1}{\\sqrt{2\\pi}} -\\frac{N}{2} \\log (\\sigma_{11}^2) -\\frac{1}{2} \\sum_{i=1}^N \\frac{(y_{i1}-\\mu_1)^2}{\\sigma_{11}^2} + \\sum_{i=1}^R \\log \\frac{1}{\\sqrt{2\\pi}} -\\frac{R}{2} \\log  (\\sigma_{2|1}^2) -\\frac{1}{2} \\sum_{i=1}^R \\frac{(y_{i2}-\\mu_{2|1})^2}{\\sigma_{2|1}^2} \n",
    "$$\n",
    "Удалим константные слагаемые.\n",
    "$$\n",
    "l(\\mu, \\Sigma; y_1, y_2) = -\\frac{N}{2} \\log (\\sigma_{11}^2) -\\frac{1}{2} \\sum_{i=1}^N \\frac{(y_{i1}-\\mu_1)^2}{\\sigma_{11}^2} -\\frac{R}{2} \\log  (\\sigma_{2|1}^2) -\\frac{1}{2} \\sum_{i=1}^R \\frac{(y_{i2}-\\mu_{2|1})^2}{\\sigma_{2|1}^2} = \\\\\n",
    "= -\\frac{N}{2} \\log (\\sigma_{11}^2) -\\frac{1}{2} \\sum_{i=1}^N \\frac{(y_{i1}-\\mu_1)^2}{\\sigma_{11}^2} -\\frac{R}{2} \\log  (\\sigma_{22}^2-\\frac{\\sigma_{12}^4}{\\sigma_{11}^2}) -\\frac{1}{2} \\sum_{i=1}^R \\frac{\\left(y_{i2}-\\mu_2-\\frac{\\sigma_{22}}{\\sigma_{11}}\\rho (y_{i1}-\\mu_1)\\right)^2}{\\sigma_{22}^2-\\frac{\\sigma_{12}^4}{\\sigma_{11}^2}} \\\\\n",
    "$$"
   ]
  },
  {
   "cell_type": "markdown",
   "id": "172517fc",
   "metadata": {},
   "source": [
    "В статье:\n",
    "$$\n",
    "l(\\mu, \\Sigma; y_1, y_2) =-\\frac{N}{2} \\log (\\sigma_{11}^2) -\\frac{1}{2} \\sum_{i=1}^N \\frac{(y_{i1}-\\mu_1)^2}{\\sigma_{11}^2} -\\frac{R}{2} \\log  \\left((\\sigma_{22}-\\frac{\\sigma_{12}^2}{\\sigma_{11}})^2\\right) -\\frac{1}{2} \\sum_{i=1}^R \\frac{\\left(y_{i2}-\\mu_2-\\frac{\\sigma_{12}}{\\sigma_{11}} (y_{i1}-\\mu_1)\\right)^2}{\\left(\\sigma_{22}-\\frac{\\sigma_{12}^2}{\\sigma_{11}}\\right)^2} \\\\\n",
    "$$"
   ]
  },
  {
   "cell_type": "markdown",
   "id": "68c11377",
   "metadata": {},
   "source": [
    "**Предварительный вывод:** либо в статье правдоподобие высчитано неверно, либо у меня, либо в обоих случаях."
   ]
  },
  {
   "cell_type": "code",
   "execution_count": null,
   "id": "44697070",
   "metadata": {},
   "outputs": [],
   "source": []
  }
 ],
 "metadata": {
  "kernelspec": {
   "display_name": "Python 3 (ipykernel)",
   "language": "python",
   "name": "python3"
  },
  "language_info": {
   "codemirror_mode": {
    "name": "ipython",
    "version": 3
   },
   "file_extension": ".py",
   "mimetype": "text/x-python",
   "name": "python",
   "nbconvert_exporter": "python",
   "pygments_lexer": "ipython3",
   "version": "3.10.9"
  }
 },
 "nbformat": 4,
 "nbformat_minor": 5
}
