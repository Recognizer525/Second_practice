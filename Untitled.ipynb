{
 "cells": [
  {
   "cell_type": "code",
   "execution_count": 1,
   "id": "3ff5ebe0",
   "metadata": {},
   "outputs": [],
   "source": [
    "import numpy as np"
   ]
  },
  {
   "cell_type": "code",
   "execution_count": 4,
   "id": "e79e9a4b",
   "metadata": {},
   "outputs": [],
   "source": [
    "f=np.random.uniform(4,5,2)"
   ]
  },
  {
   "cell_type": "code",
   "execution_count": 5,
   "id": "d7319d02",
   "metadata": {},
   "outputs": [
    {
     "data": {
      "text/plain": [
       "array([4.73912127, 4.6222717 ])"
      ]
     },
     "execution_count": 5,
     "metadata": {},
     "output_type": "execute_result"
    }
   ],
   "source": [
    "f"
   ]
  },
  {
   "cell_type": "code",
   "execution_count": null,
   "id": "7a78c197",
   "metadata": {},
   "outputs": [],
   "source": [
    "def L(Y): \n",
    "    mu1, mu2 = np.mean(Y[:,0]), np.mean(Y[:,1])\n",
    "    sigma11, sigma12, sigma22 = np.var(Y[:,0]), np.mean(Y[:,0]*Y[:,1])-mu1*mu2, np.var(Y[:,1]) \n",
    "    n, r = len(Y), len(Y)\n",
    "    first, third = -(n/2)*np.log(sigma11**2), -(r/2)*np.log((sigma22-sigma12*sigma12/sigma11)**2)\n",
    "    second, fourth = 0, 0\n",
    "    for i in range(n):\n",
    "        second+=(-1/2)*((Y[i,0]-mu1)**2)/(sigma11**2)\n",
    "    for i in range(r):\n",
    "        fourth+=(-1/2)*((Y[i,0]-mu1-(sigma12/sigma11)*(Y[i,0]-mu1))**2)/((sigma22-sigma12*sigma12/sigma11)**2)\n",
    "    return first+second+third+fourth"
   ]
  }
 ],
 "metadata": {
  "kernelspec": {
   "display_name": "Python 3 (ipykernel)",
   "language": "python",
   "name": "python3"
  },
  "language_info": {
   "codemirror_mode": {
    "name": "ipython",
    "version": 3
   },
   "file_extension": ".py",
   "mimetype": "text/x-python",
   "name": "python",
   "nbconvert_exporter": "python",
   "pygments_lexer": "ipython3",
   "version": "3.10.9"
  }
 },
 "nbformat": 4,
 "nbformat_minor": 5
}
