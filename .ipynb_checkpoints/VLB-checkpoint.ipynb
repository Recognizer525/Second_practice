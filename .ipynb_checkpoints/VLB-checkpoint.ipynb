{
 "cells": [
  {
   "cell_type": "markdown",
   "id": "1e4a3aa0",
   "metadata": {},
   "source": [
    "# Расчет вариационной нижней границы для ЕМ-алгоритма, для случая, когда он используется для заполнения пропусков в данных."
   ]
  },
  {
   "cell_type": "markdown",
   "id": "7ba6bbcb",
   "metadata": {},
   "source": [
    "Имеется набор данных с двумя признаками, один из которых содержит пропуски, предполагается, что оба признака распределены согласно Гауссовскому закону."
   ]
  },
  {
   "cell_type": "markdown",
   "id": "b189a905",
   "metadata": {},
   "source": [
    "**Правдоподобие:**\n",
    "$$L=-\\frac{N}{2}\\log(\\sigma_{11}^2)-\\frac{1}{2}\\sum_{i=1}^N \\frac{(y_{i1}-\\mu_1)^2}{\\sigma_{11}^2}-\\frac{R}{2}\\log\\left((\\sigma_{22}-\\frac{\\sigma_{12}^2}{\\sigma_{11}})^2\\right)-\\frac{1}{2}\\sum_{i=1}^R \\frac{\\left(y_{i2}-\\mu_2-\\frac{\\sigma_{12}}{\\sigma_{11}}(y_{i1}-\\mu_1)\\right)^2}{(\\sigma_{22}-\\frac{\\sigma_{12}^2}{\\sigma_{11}})^2}$$"
   ]
  },
  {
   "cell_type": "markdown",
   "id": "76be494b",
   "metadata": {},
   "source": [
    "Взято из http://juliejosse.com/wp-content/uploads/2018/07/LectureNotesMissing.html#3"
   ]
  },
  {
   "cell_type": "markdown",
   "id": "94416500",
   "metadata": {},
   "source": [
    "Поскольку в оригинальной статье $y$ используется для обозначения входных данных, буду придерживаться тех же обозначений."
   ]
  },
  {
   "cell_type": "markdown",
   "id": "f6ce23b4",
   "metadata": {},
   "source": [
    "L - правдоподобие $\\log p(Y,T|\\theta)$"
   ]
  },
  {
   "cell_type": "markdown",
   "id": "670ef5f9",
   "metadata": {},
   "source": [
    "$Y$ - известные данные. \\\n",
    "$T$ - скрытые переменные, в данном случае - пропущенные значения второго столбца.  \\\n",
    "$\\theta =  [\\mu, \\Sigma]$  - параметры, чьи значения находятся на М-шаге. \\\n",
    "$$\n",
    "\\mu=\\begin{bmatrix}\n",
    "\\mu_1 & \\mu_2\n",
    "\\end{bmatrix};\n",
    "\\:\n",
    "\\Sigma=\n",
    "\\begin{bmatrix}\n",
    "    \\sigma_{11} & \\sigma_{12}\\\\\n",
    "    \\sigma_{21} & \\sigma_{22}\n",
    "    \\end{bmatrix}\n",
    "$$\n",
    "$k$ - номер пропуска, $K$ - количество пропусков. \\\n",
    "$y_1$ - СВ, соответствующая первому признаку, $y_2$ - СВ, соответствующая второму признаку,\n",
    "$y_{k1}$ - значение первого признака для строки $k$."
   ]
  },
  {
   "cell_type": "markdown",
   "id": "5a90784c",
   "metadata": {},
   "source": [
    "$$VLB = E_{q(T)} \\log \\frac { p(Y,T|\\theta)}{q(T|\\theta)}=\\sum_{k=1}^K \\int f(y_2|y_1=y_{k1}) \\log \\frac{p(Y,T|\\theta)}{f(y_2|y_1=y_{k1})} dy_2 $$"
   ]
  },
  {
   "cell_type": "markdown",
   "id": "b3da0165",
   "metadata": {},
   "source": [
    "Условная плотность признака $y_2$, при условии $y_1=y_{k1}$ также гауссова плотность, но с иными параметрами:\n",
    "$$\\sigma_z=\\sigma_{22}\\sqrt{1-r^2}$$\n",
    "$$\\mu_z=\\mu_{y_2}+r\\frac{\\sigma_{22}}{\\sigma_{11}}(y_{k1}-\\mu_{y1}) $$\n",
    "$r$ - коэффициент корреляции между $y_2$ и $y_1$"
   ]
  },
  {
   "cell_type": "markdown",
   "id": "dbe0e5b7",
   "metadata": {},
   "source": [
    "$$ \\int f(y_2|y_1=y_{k1}) \\log \\frac{p(Y,T|\\theta)}{f(y_2|y_1=y_{k1})} dy_2 = \\int \\frac{1}{\\sigma_z \\sqrt{2\\pi}} e^{-\\frac{1}{2}\\left(\\frac{y_2-\\mu_z}{\\sigma_z}\\right)^2} \\left(L - \\log \\frac{1}{\\sigma_z \\sqrt{2\\pi}} e^{-\\frac{1}{2}\\left(\\frac{y_2-\\mu_z}{\\sigma_z}\\right)^2}\\right) dy_2 =\\\\\n",
    "\\int q \\left( L - \\log \\frac{1}{\\sigma_z \\sqrt{2\\pi}} e^{-\\frac{1}{2}\\left(\\frac{y_2-\\mu_z}{\\sigma_z}\\right)^2}\\right) dy_2 = L \\int q \\: dy_2 - \\int q \\: \\log \\frac{1}{\\sigma_z \\sqrt{2\\pi}} e^{-\\frac{1}{2}\\left(\\frac{y_2-\\mu_z}{\\sigma_z}\\right)^2} dy_2 =\\\\\n",
    "L \\int q \\: dy_2 - \\int q \\: \\log \\frac{1}{\\sigma_z \\sqrt{2\\pi}} dy_z - \\int q \\: {\\left(-\\frac{(y_2-\\mu_z)^2}{2\\sigma_z^2}\\right)} dy_2 = L  + \\log \\sigma_z \\sqrt{2\\pi} + \\int q \\: {\\left(\\frac{(y_2-\\mu_z)^2}{2\\sigma_z^2}\\right)} dy_2 =\\\\\n",
    "L + \\log \\sigma_z \\sqrt{2\\pi} + M[{\\left(\\frac{(y_2-\\mu_z)^2}{2\\sigma_z^2}\\right)}] = L + \\log \\sigma_z \\sqrt{2\\pi} + \\frac{1}{2\\sigma_z^2}M[(y_2-\\mu_z)^2] = L + \\log \\sigma_z \\sqrt{2\\pi} + \\frac{\\sigma_z^2}{2\\sigma_z^2} = L + \\log \\sigma_z \\sqrt{2\\pi} + \\frac{1}{2}$$"
   ]
  },
  {
   "cell_type": "markdown",
   "id": "11845721",
   "metadata": {},
   "source": [
    "$$VLB =\\sum_{k=1}^K \\left(\\log (\\sigma_{22}\\sqrt{1-r^2} \\sqrt{2\\pi}) + L + \\frac{1}{2}\\right)=\\frac{K}{2}+ LK +K\\log ( \\sigma_{22}\\sqrt{1-r^2} \\sqrt{2\\pi})$$"
   ]
  },
  {
   "cell_type": "code",
   "execution_count": null,
   "id": "fd595e11",
   "metadata": {},
   "outputs": [],
   "source": []
  }
 ],
 "metadata": {
  "kernelspec": {
   "display_name": "Python 3 (ipykernel)",
   "language": "python",
   "name": "python3"
  },
  "language_info": {
   "codemirror_mode": {
    "name": "ipython",
    "version": 3
   },
   "file_extension": ".py",
   "mimetype": "text/x-python",
   "name": "python",
   "nbconvert_exporter": "python",
   "pygments_lexer": "ipython3",
   "version": "3.10.9"
  }
 },
 "nbformat": 4,
 "nbformat_minor": 5
}
