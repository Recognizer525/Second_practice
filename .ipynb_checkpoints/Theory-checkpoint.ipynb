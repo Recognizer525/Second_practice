{
 "cells": [
  {
   "cell_type": "markdown",
   "id": "49fc94a1",
   "metadata": {},
   "source": [
    "# Вывод условной плотности гауссовского распределения.\n",
    "Найдем условную плотность гауссовской случайной величины $x$ при фиксированном значении гауссовской случайной величины $y$.\n",
    "\n",
    "$\\rho$ - коэффициент корреляции признаков."
   ]
  },
  {
   "cell_type": "markdown",
   "id": "ba0f3b30",
   "metadata": {},
   "source": [
    "$$\n",
    "f(x|y)=\\frac{f(x,y)}{f(y)}=\\frac{\\frac{1}{2\\pi\\sigma_x\\sigma_y\\sqrt{1-\\rho^2}}\\exp\\left(-\\frac{1}{2(1-\\rho^2)}\\left[\\frac{(x-\\mu_x)^2}{\\sigma_x^2}-\\rho\\frac{2(x-\\mu_x)(y-\\mu_y)}{\\sigma_x\\sigma_y}+\\frac{(y-\\mu_y)^2}{\\sigma_y^2}\\right]\\right)}{\\frac{1}{\\sigma_y\\sqrt{2\\pi}}\\exp\\left(-\\frac{(y-\\mu_y)^2}{2\\sigma_y^2}\\right)}=\\\\\n",
    "=\\frac{1}{\\sqrt{2\\pi}\\sigma_x\\sqrt{1-\\rho^2}}\\exp\\left(-\\frac{1}{2(1-\\rho^2)}\\left[\\frac{(x-\\mu_x)^2}{\\sigma_x^2}-\\rho\\frac{2(x-\\mu_x)(y-\\mu_y)}{\\sigma_x\\sigma_y}+\\frac{(y-\\mu_y)^2}{\\sigma_y^2}\\right]+\\frac{(y-\\mu_y)^2}{2\\sigma_y^2}\\right)=\\\\\n",
    "$$"
   ]
  },
  {
   "cell_type": "markdown",
   "id": "5f3ded48",
   "metadata": {},
   "source": [
    "Преобразуем выражение в показателе экспоненты:\n",
    "$$\n",
    "=-\\frac{1}{2(1-\\rho^2)}\\left[\\frac{(x-\\mu_x)^2}{\\sigma_x^2}-\\rho\\frac{2(x-\\mu_x)(y-\\mu_y)}{\\sigma_x\\sigma_y}+\\frac{(y-\\mu_y)^2}{\\sigma_y^2}\\right]+\\frac{(y-\\mu_y)^2}{2\\sigma_y^2}=\\\\\n",
    "=-\\frac{1}{2(1-\\rho^2)}\\left[\\frac{(x-\\mu_x)^2}{\\sigma_x^2}-\\rho\\frac{2(x-\\mu_x)(y-\\mu_y)}{\\sigma_x\\sigma_y}+\\frac{(y-\\mu_y)^2}{\\sigma_y^2}-\\frac{(1-\\rho^2)(y-\\mu_y)^2}{\\sigma_y^2}\\right]=\\\\\n",
    "=-\\frac{1}{2(1-\\rho^2)}\\left[\\frac{(x-\\mu_x)^2}{\\sigma_x^2}-\\rho\\frac{2(x-\\mu_x)(y-\\mu_y)}{\\sigma_x\\sigma_y}+\\frac{(y-\\mu_y)^2}{\\sigma_y^2}+\\frac{(\\rho^2-1)(y-\\mu_y)^2}{\\sigma_y^2}\\right]=\\\\\n",
    "=-\\frac{1}{2(1-\\rho^2)}\\left[\\frac{(x-\\mu_x)^2}{\\sigma_x^2}-\\frac{2\\rho(x-\\mu_x)(y-\\mu_y)}{\\sigma_x\\sigma_y}+\\frac{\\rho^2(y-\\mu_y)^2}{\\sigma_y^2}\\right]=\\\\\n",
    "=-\\frac{1}{2(1-\\rho^2)}\\left[\\frac{\\sigma_y^2(x-\\mu_x)^2}{\\sigma_x^2\\sigma_y^2}-\\frac{2\\rho\\sigma_x\\sigma_y(x-\\mu_x)(y-\\mu_y)}{\\sigma_x^2\\sigma_y^2}+\\frac{\\sigma_x^2\\rho^2(y-\\mu_y)^2}{\\sigma_x^2\\sigma_y^2}\\right]=\\\\\n",
    "=-\\frac{1}{2\\sigma_x^2(1-\\rho^2)}\\left[(x-\\mu_x)^2-\\frac{2\\rho\\sigma_x\\sigma_y(x-\\mu_x)(y-\\mu_y)}{\\sigma_y^2}+\\frac{\\sigma_x^2\\rho^2(y-\\mu_y)^2}{\\sigma_y^2}\\right]=\\\\\n",
    "=-\\frac{1}{2\\sigma_x^2(1-\\rho^2)}\\left[(x-\\mu_x)^2-2(x-\\mu_x)\\rho\\frac{\\sigma_x}{\\sigma_y}(y-\\mu_y)+\\left(\\rho\\frac{\\sigma_x}{\\sigma_y}(y-\\mu_y)\\right)^2\\right]=\\\\\n",
    "=-\\frac{1}{2\\sigma_x^2(1-\\rho^2)}\\left(x-\\mu_x-\\rho\\frac{\\sigma_x}{\\sigma_y}(y-\\mu_y)\\right)^2\n",
    "$$\n",
    "Подставляем в формулу условной плотности:\n",
    "$$\n",
    "f(x|y)=\\frac{1}{\\sqrt{2\\pi}\\sigma_x\\sqrt{1-\\rho^2}}\\exp-\\frac{\\left(x-\\mu_x-\\rho\\frac{\\sigma_x}{\\sigma_y}(y-\\mu_y)\\right)^2}{2\\sigma_x^2(1-\\rho^2)}\n",
    "$$\n",
    "Судя по виду условной плотности, она является одномерным гауссовским распределением, причем параметры его следующие: $\\mu_{x|y}=\\mu_x+\\rho\\frac{\\sigma_x}{\\sigma_y}(y-\\mu_y)$, $\\sigma_{x|y}=\\sigma_x\\sqrt{1-\\rho^2}$.\n",
    "$D_{2|1}=\\sigma_{2|1}^2=D_{2}(1-\\rho^2)=D_2-D_2\\frac{cov(x,y)^2}{D_1D_2}=D_2-\\frac{cov(x,y)^2}{D_1}$. \n",
    "$$\n",
    "f(x|y)=\\frac{1}{\\sqrt{2\\pi}\\sigma_{x|y}}\\exp\\left(-\\frac{\\left(x-\\mu_{x|y}\\right)^2}{2\\sigma_{x|y}^2}\\right)\n",
    "$$"
   ]
  },
  {
   "cell_type": "markdown",
   "id": "7e2cf343",
   "metadata": {},
   "source": [
    "# ЕМ-алгоритм для пропусков в данных."
   ]
  },
  {
   "cell_type": "markdown",
   "id": "c6f0600b",
   "metadata": {},
   "source": [
    "**Обозначения:**\n",
    "В материале http://juliejosse.com/wp-content/uploads/2018/07/LectureNotesMissing.html#3 \n",
    "$\\sigma$ используется непоследовательно, в формуле для правдоподобия она используется как среднеквадратичное отклонение,\n",
    "при расчете Е- и М- шагов используется для обозначения компонентов матрицы ковариации, в связи с этим я решил использовать следующие обозначения:\n",
    "    \n",
    "$D_1$ - для обозначения дисперсии первого признака; \n",
    "\n",
    "$D_2$ - для обозначения дисперсии второго признака;\n",
    "\n",
    "$cov(y_1,y_2)$ для обозначения ковариации признаков;\n",
    "\n",
    "$\\sigma_1$ - для обозначения среднеквадратичного отклонения первого признака;\n",
    "\n",
    "$\\sigma_2$ - для обозначения среднеквадратичного отклонения второго признака."
   ]
  },
  {
   "cell_type": "markdown",
   "id": "b6c6fd5b",
   "metadata": {},
   "source": [
    "$$\n",
    "f_{1,2}(y_1,y_2;\\mu,\\Sigma)=\\prod_{i=1}^N f_1(y_{i1};\\mu_1,\\sigma_1) \\prod_{j=1}^R f_{2|1}(y_{j2}|y_{j1};\\mu,\\Sigma) \\\\\n",
    "f_1(y_{i1};\\mu_1,\\sigma_1) = \\frac{1}{\\sigma_1\\sqrt{2\\pi}} e^{-\\frac{(y_{i1}-\\mu_1)^2}{2\\sigma_1^2}} $$\n",
    "$ f_{2|1}(y_{j2}|y_{j1};\\mu,\\Sigma) $ - гауссовская плотность с параметрами $ \\mu_{2|1}=\\mu_2+\\frac{\\sigma_{2}}{\\sigma_1}\\rho (y_{j1}-\\mu_1);   \\; D_{2|1}=D_2(1-\\rho^2) $, где $\\rho$ - коэффициент корреляции\n",
    "$$\n",
    "D_{2|1} = D_2 (1-\\rho^2) = D_2 \\left(1-(\\frac{cov(y_1,y_2)}{\\sqrt{D_1D_2}})^2\\right)\n",
    "= D_2-D_2\\left(\\frac{cov(y_1,y_2)}{\\sqrt{D_1 D_2}}\\right)^2 = D_2-\\frac{cov(y_1,y_2)^2}{D_1};  \\; \\sigma_{2|1}^2=\\sqrt{D_{2}-\\frac{cov(y_1,y_2)^2}{D_1}} \\\\ \n",
    "\\mu_{2|1} = \\mu_2+\\frac{\\sigma_2}{\\sigma_1}\\rho (y_{j1}-\\mu_1) = \\mu_2+\\frac{\\sigma_2}{\\sigma_1}\\frac{cov(y_1,y_2)}{\\sigma_1\\sigma_2} (y_{j1}-\\mu_1) = \\mu_2+\\frac{cov(y_1,y_2)}{D_1} (y_{j1}-\\mu_1) \\\\\n",
    "f_{2|1}(y_{j2}|y_{j1};\\mu,\\Sigma) = \\frac{1}{\\sigma_{2|1}\\sqrt{2\\pi}} e^{-\\frac{(y_{j2}-\\mu_{2|1})^2}{2\\sigma_{2|1}^2}} $$"
   ]
  },
  {
   "cell_type": "markdown",
   "id": "1110b82a",
   "metadata": {},
   "source": [
    "$$\n",
    "f_{1,2}(y_1,y_2;\\mu,\\Sigma)=\\prod_{i=1}^N\\frac{1}{\\sigma_1\\sqrt{2\\pi}} e^{-\\frac{(y_{i1}-\\mu_1)^2}{2\\sigma_1^2}} \\prod_{j=1}^R \\frac{1}{\\sigma_{2|1}\\sqrt{2\\pi}} e^{-\\frac{(y_{i2}-\\mu_{2|1})^2}{2\\sigma_{2|1}^2}} \\\\\n",
    "l(\\mu, \\Sigma; y_1, y_2) = \\log f_{1,2} (y_1, y_2;\\mu, \\Sigma) = \\log \\prod_{i=1}^N\\frac{1}{\\sigma_1\\sqrt{2\\pi}} e^{-\\frac{(y_{i1}-\\mu_1)^2}{2\\sigma_1^2}} + \\log \\prod_{i=1}^R \\frac{1}{\\sigma_{2|1}\\sqrt{2\\pi}} e^{-\\frac{(y_{i2}-\\mu_{2|1})^2}{2\\sigma_{2|1}^2}} = \\\\\n",
    "= \\log \\prod_{i=1}^N\\frac{1}{\\sigma_{11}\\sqrt{2\\pi}} + \\log \\prod_{i=1}^N e^{-\\frac{(y_{i1}-\\mu_1)^2}{2\\sigma_1^2}} + \\log \\prod_{i=1}^R \\frac{1}{\\sigma_{2|1}\\sqrt{2\\pi}} + \\log \\prod_{i=1}^R e^{-\\frac{(y_{i2}-\\mu_{2|1})^2}{2\\sigma_{2|1}^2}} = \\\\\n",
    "= \\log \\prod_{i=1}^N\\frac{1}{\\sqrt{2\\pi}} + \\log \\prod_{i=1}^N\\frac{1}{\\sqrt{\\sigma_1^2}} + \\log \\prod_{i=1}^N e^{-\\frac{(y_{i1}-\\mu_1)^2}{2\\sigma_1^2}} + \\log \\prod_{i=1}^R \\frac{1}{\\sqrt{2\\pi}} + \\log \\prod_{i=1}^R \\frac{1}{\\sqrt{\\sigma_{2|1}^2}} + \\log \\prod_{i=1}^R e^{-\\frac{(y_{i2}-\\mu_{2|1})^2}{2\\sigma_{2|1}^2}} = \\\\\n",
    "= \\log \\prod_{i=1}^N\\frac{1}{\\sqrt{2\\pi}} + \\log \\prod_{i=1}^N (\\sigma_{1}^2)^{(-1/2)} + \\log \\prod_{i=1}^N e^{-\\frac{(y_{i1}-\\mu_1)^2}{2\\sigma_1^2}} + \\log \\prod_{i=1}^R \\frac{1}{\\sqrt{2\\pi}} + \\log \\prod_{i=1}^R (\\sigma_{2|1}^2)^{(-1/2)} + \\log \\prod_{i=1}^R e^{-\\frac{(y_{i2}-\\mu_{2|1})^2}{2\\sigma_{2|1}^2}} = \\\\\n",
    "= \\sum_{i=1}^N \\log \\frac{1}{\\sqrt{2\\pi}} + \\sum_{i=1}^N -\\frac{1}{2} \\log (\\sigma_1^2) + \\sum_{i=1}^N -\\frac{(y_{i1}-\\mu_1)^2}{2\\sigma_1^2} + \\sum_{i=1}^R \\log \\frac{1}{\\sqrt{2\\pi}} + \\sum_{i=1}^R -\\frac{1}{2} \\log  (\\sigma_{2|1}^2) + \\sum_{i=1}^R -\\frac{(y_{i2}-\\mu_{2|1})^2}{2\\sigma_{2|1}^2} = \\\\\n",
    "= \\sum_{i=1}^N \\log \\frac{1}{\\sqrt{2\\pi}} -\\frac{N}{2} \\log (\\sigma_1^2) -\\frac{1}{2} \\sum_{i=1}^N \\frac{(y_{i1}-\\mu_1)^2}{\\sigma_1^2} + \\sum_{i=1}^R \\log \\frac{1}{\\sqrt{2\\pi}} -\\frac{R}{2} \\log  (\\sigma_{2|1}^2) -\\frac{1}{2} \\sum_{i=1}^R \\frac{(y_{i2}-\\mu_{2|1})^2}{\\sigma_{2|1}^2} \n",
    "$$\n",
    "\n",
    "Удалим константные слагаемые и раскроем $\\mu_{2|1}$ и $\\sigma_{2|1}$.\n",
    "\n",
    "$$\n",
    "l(\\mu, \\Sigma; y_1, y_2) =  -\\frac{N}{2} \\log (\\sigma_1^2) -\\frac{1}{2} \\sum_{i=1}^N \\frac{(y_{i1}-\\mu_1)^2}{\\sigma_1^2} -\\frac{R}{2} \\log  \\left(D_2-\\frac{cov(y_1,y_2)^2}{D_1}\\right) -\\frac{1}{2} \\sum_{i=1}^R \\frac{\\left(y_{i2}-\\mu_2-\\frac{cov(y_1,y_2)}{D_1} (y_{i1}-\\mu_1)\\right)^2}{D_2-\\frac{cov(y_1,y_2)^2}{D_1}} \\\\\n",
    "$$"
   ]
  },
  {
   "cell_type": "markdown",
   "id": "fce024a3",
   "metadata": {},
   "source": [
    "# E-шаг:\n",
    "$$\n",
    "q(T|\\theta)=P(T|Y,\\theta)=\\frac{P(Y|T,\\theta)P(T|\\theta)}{P(Y|\\theta)};\\\\\n",
    "P(Y|\\theta)=\\frac{1}{\\sigma_1\\sqrt{2\\pi}} e^{-\\frac{(y_{i1}-\\mu_1)^2}{2\\sigma_1^2}};\\:\\:\\:\n",
    "P(T|\\theta)=\\frac{1}{\\sigma_2\\sqrt{2\\pi}} e^{-\\frac{(y_{i2}-\\mu_2)^2}{2\\sigma_2^2}};\\:\\:\\:\n",
    "P(Y|T,\\theta)=\\frac{1}{\\sigma_{1|2}\\sqrt{2\\pi}} e^{-\\frac{(y_{i1}-\\mu_{1|2})^2}{2\\sigma_{1|2}^2}}\\\\\n",
    "$$"
   ]
  },
  {
   "cell_type": "markdown",
   "id": "f2a1230d",
   "metadata": {},
   "source": [
    "$$\n",
    "q(T|\\theta)=\\frac{\\frac{1}{\\sigma_{1|2}\\sqrt{2\\pi}} e^{-\\frac{(y_{i1}-\\mu_{1|2})^2}{2\\sigma_{1|2}^2}}\\frac{1}{\\sigma_2\\sqrt{2\\pi}} e^{-\\frac{(y_{i2}-\\mu_2)^2}{2\\sigma_2^2}}}{\\frac{1}{\\sigma_1\\sqrt{2\\pi}} e^{-\\frac{(y_{i1}-\\mu_1)^2}{2\\sigma_1^2}}}=\n",
    "\\frac{\\sigma_1}{\\sigma_2\\sigma_{1|2}\\sqrt{2\\pi}} e^{-\\frac{(y_{i1}-\\mu_{1|2})^2}{2\\sigma_{1|2}^2}} e^{-\\frac{(y_{i2}-\\mu_2)^2}{2\\sigma_2^2}}{e^{\\frac{(y_{i1}-\\mu_1)^2}{2\\sigma_1^2}}}=\\\\\n",
    "= \\frac{\\sigma_1}{\\sigma_2\\sigma_{1|2}\\sqrt{2\\pi}} e^{-\\frac{(y_{i1}-\\mu_{1|2})^2}{2\\sigma_{1|2}^2}-\\frac{(y_{i2}-\\mu_2)^2}{2\\sigma_2^2}+\\frac{(y_{i1}-\\mu_1)^2}{2\\sigma_1^2}}\n",
    "= \\frac{\\sigma_1}{\\sigma_2\\sigma_1\\sqrt{1-\\rho^2}\\sqrt{2\\pi}} e^{-\\frac{\\left(y_{i1}-\\mu_1-\\frac{\\sigma_1}{\\sigma_2}\\rho (y_{j2}-\\mu_2)\\right)^2}{2\\sigma_1^2(1-\\rho^2)}-\\frac{(y_{i2}-\\mu_2)^2}{2\\sigma_2^2}+\\frac{(y_{i1}-\\mu_1)^2}{2\\sigma_1^2}}=\\\\\n",
    "= \\frac{1}{\\sigma_2\\sqrt{1-\\rho^2}\\sqrt{2\\pi}} e^{-\\frac{\\left(y_{i1}-\\mu_1-\\frac{\\sigma_1}{\\sigma_2}\\rho (y_{j2}-\\mu_2)\\right)^2}{2\\sigma_1^2(1-\\rho^2)}-\\frac{(y_{i2}-\\mu_2)^2}{2\\sigma_2^2}+\\frac{(y_{i1}-\\mu_1)^2}{2\\sigma_1^2}}\n",
    "$$"
   ]
  },
  {
   "cell_type": "markdown",
   "id": "7e88ba65",
   "metadata": {},
   "source": [
    "Преобразуем показатель экспоненты:\n",
    "$$\n",
    "-\\frac{\\left(y_{i1}-\\mu_1-\\frac{\\sigma_1}{\\sigma_2}\\rho (y_{j2}-\\mu_2)\\right)^2}{2\\sigma_1^2(1-\\rho^2)}-\\frac{(y_{i2}-\\mu_2)^2}{2\\sigma_2^2}+\\frac{(y_{i1}-\\mu_1)^2}{2\\sigma_1^2}=\\\\\n",
    "-\\frac{\\sigma_2^2\\left(y_{i1}-\\mu_1-\\frac{\\sigma_1}{\\sigma_2}\\rho (y_{j2}-\\mu_2)\\right)^2}{2\\sigma_2^2\\sigma_1^2(1-\\rho^2)}-\\frac{\\sigma_1^2(y_{i2}-\\mu_2)^2(1-\\rho^2)}{2\\sigma_1^2\\sigma_2^2(1-\\rho^2)}+\\frac{\\sigma_2^2(y_{i1}-\\mu_1)^2(1-\\rho^2)}{2\\sigma_2^2\\sigma_1^2(1-\\rho^2)}\n",
    "$$\n",
    "Сделаем, для удобства вычислений, две замены: $a=y_{i1}-\\mu_1, b=y_{i2}-\\mu_2$\n",
    "$$\n",
    "-\\frac{\\sigma_2^2\\left(y_{i1}-\\mu_1-\\frac{\\sigma_1}{\\sigma_2}\\rho (y_{j2}-\\mu_2)\\right)^2}{2\\sigma_2^2\\sigma_1^2(1-\\rho^2)}-\\frac{\\sigma_1^2(y_{i2}-\\mu_2)^2(1-\\rho^2)}{2\\sigma_1^2\\sigma_2^2(1-\\rho^2)}+\\frac{\\sigma_2^2(y_{i1}-\\mu_1)^2(1-\\rho^2)}{2\\sigma_2^2\\sigma_1^2(1-\\rho^2)}=\\\\\n",
    "=-\\frac{\\sigma_2^2\\left(a-\\frac{\\sigma_1}{\\sigma_2}\\rho b\\right)^2}{2\\sigma_1^2\\sigma_2^2(1-\\rho^2)}-\\frac{\\sigma_1^2b^2(1-\\rho^2)}{2\\sigma_1^2\\sigma_2^2(1-\\rho^2)}+\\frac{\\sigma_2^2a^2(1-\\rho^2)}{2\\sigma_1^2\\sigma_2^2(1-\\rho^2)}=\\\\\n",
    "=-\\frac{1}{2\\sigma_2^2(1-\\rho^2)} \\left(\\frac{\\sigma_2^2\\left(a-\\frac{\\sigma_1}{\\sigma_2}\\rho b\\right)^2}{\\sigma_1^2}+\\frac{\\sigma_1^2b^2(1-\\rho^2)}{\\sigma_1^2}-\\frac{\\sigma_2^2a^2(1-\\rho^2)}{\\sigma_1^2}\\right)=\\\\\n",
    "=-\\frac{1}{2\\sigma_2^2(1-\\rho^2)} \\left(\\frac{\\sigma_2^2\\left(a^2-2a\\frac{\\sigma_1}{\\sigma_2}\\rho b+(\\frac{\\sigma_1}{\\sigma_2}\\rho b)^2\\right)}{\\sigma_1^2}+\\frac{\\sigma_1^2b^2(1-\\rho^2)}{\\sigma_1^2}-\\frac{\\sigma_2^2a^2(1-\\rho^2)}{\\sigma_1^2}\\right)=\\\\\n",
    "=-\\frac{1}{2\\sigma_2^2(1-\\rho^2)} \\left(\\frac{\\left(\\sigma_2^2a^2-2a\\sigma_2^2\\frac{\\sigma_1}{\\sigma_2}\\rho b+\\sigma_2^2(\\frac{\\sigma_1}{\\sigma_2}\\rho b)^2\\right)}{\\sigma_1^2}+\\frac{\\sigma_1^2b^2(1-\\rho^2)}{\\sigma_1^2}-\\frac{\\sigma_2^2a^2(1-\\rho^2)}{\\sigma_1^2}\\right)=\\\\\n",
    "=-\\frac{1}{2\\sigma_2^2(1-\\rho^2)} \\left(\\frac{\\left(\\sigma_2^2a^2-2a\\sigma_2\\sigma_1\\rho b+(\\sigma_1\\rho b)^2\\right)}{\\sigma_1^2}+\\frac{\\sigma_{1}^2b^2(1-\\rho^2)}{\\sigma_1^2}-\\frac{\\sigma_2^2a^2(1-\\rho^2)}{\\sigma_1^2}\\right)=\\\\\n",
    "=-\\frac{1}{2\\sigma_2^2(1-\\rho^2)} \\left(\\frac{-2a\\sigma_2\\rho b}{\\sigma_1}+(\\frac{\\sigma_2a}{\\sigma_1})^2+(\\rho b)^2+b^2(1-\\rho^2)-\\frac{\\sigma_2^2a^2(1-\\rho^2)}{\\sigma_1^2}\\right)=\\\\\n",
    "=-\\frac{1}{2\\sigma_2^2(1-\\rho^2)} \\left(b^2-2\\frac{\\sigma_2a\\rho b}{\\sigma_1}+(\\frac{\\sigma_2a\\rho}{\\sigma_1})^2\\right)\n",
    "=-\\frac{1}{2\\sigma_2^2(1-\\rho^2)} \\left(b-\\frac{\\sigma_2a\\rho}{\\sigma_1}\\right)^2\n",
    "=-\\frac{1}{2\\sigma_2^2(1-\\rho^2)} \\left(y_{i2}-\\mu_2-\\rho\\frac{\\sigma_2}{\\sigma_1}(y_{i1}-\\mu_1)\\right)^2\n",
    "$$"
   ]
  },
  {
   "cell_type": "markdown",
   "id": "3e71eb34",
   "metadata": {},
   "source": [
    "$$\n",
    "f(y_2|y_1)=\\frac{1}{\\sigma_2\\sqrt{1-\\rho^2}\\sqrt{2\\pi}}e^{-\\frac{1}{2\\sigma_2^2(1-\\rho^2)} \\left(y_{i2}-\\mu_2-\\rho\\frac{\\sigma_2}{\\sigma_1}(y_{i1}-\\mu_1)\\right)^2}\n",
    "E[y_{i2}|y_{i1}]=\\hat{\\beta}_{20.1}+\\hat{\\beta}_{21.1}y_{i1}\\\\\n",
    "\\hat{\\beta}_{21.1}=\\frac{cov(y_1,y_2)}{D_{11}}; \\:  \\hat{\\beta}_{20.1}=\\bar{y}_2-\\hat{\\beta}_{21.1}\\bar{y}_1\\\\\n",
    "E[y_{i2}|y_{i1};\\mu,\\Sigma]=\\bar{y}_2-\\frac{cov(y_1,y_2)}{D_{11}}\\bar{y}_1+\\frac{cov(y_1,y_2)}{D_{11}}y_{i1}\\\\\n",
    "E[y_{i2}^2|y_{i1};\\mu,\\Sigma]=(\\bar{y}_2-\\frac{cov(y_1,y_2)}{D_{11}}\\bar{y}_1+\\frac{cov(y_1,y_2)}{D_{11}}y_{i1})^2+D_{2|1}\n",
    "$$\n",
    "(так как $D[Y]=M[Y^2]-M[Y]^2$)\n",
    "$$\n",
    "E[y_{i2}y_{i1}|y_{i1};\\mu,\\Sigma]=(\\bar{y}_2-\\frac{cov(y_1,y_2)}{D_{11}}\\bar{y}_1+\\frac{cov(y_1,y_2)}{D_{11}}y_{i1})y_{i1}\n",
    "$$"
   ]
  },
  {
   "cell_type": "markdown",
   "id": "5c0b2896",
   "metadata": {},
   "source": [
    "# M-Шаг и нижняя вариационная граница:\n",
    "В данной задаче скрытыми значениями являются пропущенные значения второго признака, число которых равно $K$. Пусть $k_i, i=1,...,K$ - индексы, соответствующие строкам, в которых есть пропущенное значение второго признака.\n",
    "$$VLB = E_{q(T)} \\log \\frac { p(Y,T|\\theta)}{q(T|\\theta)}=\\sum_{i=1}^K \\int f(y_2|y_1=y_{k_i1}) \\log \\frac{p(Y,T|\\theta)}{f(y_2|y_1=y_{k_i1})} dy_2 $$"
   ]
  },
  {
   "cell_type": "markdown",
   "id": "79f0df2c",
   "metadata": {},
   "source": [
    "$$ \\int f(y_2|y_1=y_{k_i1}) \\log \\frac{p(Y,T|\\theta)}{f(y_2|y_1=y_{k_i1})} dy_2 = \\int \\frac{1}{\\sigma_{2|1}\\sqrt{2\\pi}} e^{-\\frac{1}{2}\\left(\\frac{y_2-\\mu_{2|1}}{\\sigma_{2|1}}\\right)^2} \\left(L - \\log \\frac{1}{\\sigma_{2|1} \\sqrt{2\\pi}} e^{-\\frac{1}{2}\\left(\\frac{y_2-\\mu_{2|1}}{\\sigma_{2|1}}\\right)^2}\\right) dy_2 =\\\\\n",
    "=\\int q \\left( L - \\log \\frac{1}{\\sigma_{2|1} \\sqrt{2\\pi}} e^{-\\frac{1}{2}\\left(\\frac{y_2-\\mu_{2|1}}{\\sigma_{2|1}}\\right)^2}\\right) dy_2 = L \\int q \\: dy_2 - \\int q \\: \\log \\frac{1}{\\sigma_{2|1} \\sqrt{2\\pi}} e^{-\\frac{1}{2}\\left(\\frac{y_2-\\mu_{2|1}}{\\sigma_{2|1}}\\right)^2} dy_2 =\\\\\n",
    "=L \\int q \\: dy_2 - \\int q \\: \\log \\frac{1}{\\sigma_{2|1} \\sqrt{2\\pi}} dy_2 - \\int q \\: {\\left(-\\frac{(y_2-\\mu_{2|1})^2}{2\\sigma_{2|1}^2}\\right)} dy_2 = L  + \\log \\sigma_{2|1} \\sqrt{2\\pi} + \\int q \\: {\\left(\\frac{(y_2-\\mu_{2|1})^2}{2\\sigma_{2|1}^2}\\right)} dy_2 =\\\\\n",
    "=L + \\log \\sigma_{2|1} \\sqrt{2\\pi} + M\\left[{\\left(\\frac{(y_2-\\mu_{2|1})^2}{2\\sigma_{2|1}^2}\\right)}\\right] = L + \\log \\sigma_{2|1} \\sqrt{2\\pi} + \\frac{1}{2\\sigma_{2|1}^2}M\\left[(y_2-\\mu_{2|1})^2\\right] =  \\\\\n",
    "=  L + \\log \\sigma_{2|1} \\sqrt{2\\pi} + \\frac{\\sigma_{2|1}^2}{2\\sigma_{2|1}^2} = L + \\log \\sigma_{2|1} \\sqrt{2\\pi} + \\frac{1}{2} = L + \\log \\left( D_2-\\frac{cov(y_1,y_2)}{D_1} \\right) \\sqrt{2\\pi} + \\frac{1}{2}\n",
    "$$"
   ]
  },
  {
   "cell_type": "code",
   "execution_count": null,
   "id": "6d6fd402",
   "metadata": {},
   "outputs": [],
   "source": []
  }
 ],
 "metadata": {
  "kernelspec": {
   "display_name": "Python 3 (ipykernel)",
   "language": "python",
   "name": "python3"
  },
  "language_info": {
   "codemirror_mode": {
    "name": "ipython",
    "version": 3
   },
   "file_extension": ".py",
   "mimetype": "text/x-python",
   "name": "python",
   "nbconvert_exporter": "python",
   "pygments_lexer": "ipython3",
   "version": "3.10.9"
  }
 },
 "nbformat": 4,
 "nbformat_minor": 5
}
